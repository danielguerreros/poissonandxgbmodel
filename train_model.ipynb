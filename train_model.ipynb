{
 "cells": [
  {
   "attachments": {},
   "cell_type": "markdown",
   "metadata": {},
   "source": [
    "# Training model (EPL)"
   ]
  },
  {
   "cell_type": "code",
   "execution_count": 45,
   "metadata": {},
   "outputs": [],
   "source": [
    "import pandas as pd\n",
    "import numpy as np\n",
    "from xgboost import XGBClassifier\n",
    "from sklearn.metrics import accuracy_score,roc_auc_score\n",
    "import seaborn as sns\n",
    "import matplotlib.pyplot as plt\n",
    "import seaborn as sns\n",
    "import statsmodels.api as sm\n",
    "import statsmodels.formula.api as smf\n",
    "from datetime import datetime\n",
    "import matplotlib.ticker as mtick\n",
    "import warnings\n",
    "warnings.filterwarnings('ignore')\n",
    "\n",
    "\n",
    "from sklearn.model_selection import RandomizedSearchCV, GridSearchCV\n",
    "from sklearn.model_selection import StratifiedKFold\n",
    "from scipy.stats import poisson,skellam"
   ]
  },
  {
   "cell_type": "code",
   "execution_count": 2,
   "metadata": {},
   "outputs": [],
   "source": [
    "url_train = 'https://fbref.com/en/comps/9/2020-2021/schedule/2020-2021-Premier-League-Scores-and-Fixtures'\n",
    "url_test1 = 'https://fbref.com/en/comps/9/2021-2022/schedule/2021-2022-Premier-League-Scores-and-Fixtures'\n",
    "url_test2 = 'https://fbref.com/en/comps/9/2022-2023/schedule/2022-2023-Premier-League-Scores-and-Fixtures'\n",
    "\n",
    "\n",
    "#Reading fixture\n",
    "train = pd.read_html(url_train)[0]\n",
    "test1 = pd.read_html(url_test1)[0]\n",
    "test2 = pd.read_html(url_test2)[0]\n",
    "\n",
    "#Casting cate and creating variable season\n",
    "train[\"Date\"] = pd.to_datetime(train[\"Date\"])\n",
    "test1[\"Date\"] = pd.to_datetime(test1[\"Date\"])\n",
    "test2[\"Date\"] = pd.to_datetime(test2[\"Date\"])\n",
    "\n",
    "train[\"Season\"] = \"2020-2021\"\n",
    "test1[\"Season\"] = \"2021-2022\"\n",
    "test2[\"Season\"] = \"2022-2023\"\n",
    "\n",
    "\n",
    "#Joining dataframes\n",
    "train = pd.concat([train,test1,test2],ignore_index=True)\n",
    "\n",
    "\n",
    "#Keeping necessary variables and splitting score to get home and away goals\n",
    "train = train[[\"Date\",\"Season\",\"Home\",\"xG\",\"Score\",\"xG.1\",\"Away\"]].dropna()\n",
    "train[[\"Home_g\",\"Away_g\"]]=train[\"Score\"].str.split(\"–\",expand=True)\n",
    "train.drop(columns = [\"Score\"],inplace=True)\n",
    "train = train.sort_values('Date').reset_index(drop=True)"
   ]
  },
  {
   "cell_type": "code",
   "execution_count": 3,
   "metadata": {},
   "outputs": [],
   "source": [
    "# Creating dataframes for home and away\n",
    "home = train[[\"Date\",\"Season\",\"Home\",\"xG\",\"xG.1\",\"Home_g\",\"Away_g\"]]\n",
    "away = train[[\"Date\",\"Season\",\"Away\",\"xG\",\"xG.1\",\"Home_g\",\"Away_g\"]]\n",
    "\n",
    "# Changing columns to get generic name\n",
    "home.columns = [\"Date\",\"Season\",\"Team\",\"xG\",\"Conceded xG\",\"Goals\",\"Conceded Goals\"]\n",
    "away.columns = [\"Date\",\"Season\",\"Team\",\"Conceded xG\",\"xG\",\"Conceded Goals\",\"Goals\"]\n",
    "\n",
    "home[\"Host\"] = 1\n",
    "away[\"Host\"] = 0  \n",
    "\n",
    "#Joining home and away to groupby team\n",
    "goals = pd.concat([home,away])\n",
    "goals = goals.sort_values(\"Date\")\n",
    "\n",
    "#Creating cum average variables\n",
    "goals[\"xG (rolling)\"]=goals.groupby([\"Season\",\"Team\"])[\"xG\"].transform(lambda x: x.shift().expanding().mean()).round(2)\n",
    "goals[\"Conceded xG (rolling)\"]=goals.groupby([\"Season\",\"Team\"])[\"Conceded xG\"].transform(lambda x: x.shift().expanding().mean()).round(2)\n",
    "goals[\"Goals (rolling)\"]=goals.groupby([\"Season\",\"Team\"])[\"Goals\"].transform(lambda x: x.shift().expanding().mean()).round(2)\n",
    "goals[\"Conceded Goals (rolling)\"]=goals.groupby([\"Season\",\"Team\"])[\"Conceded Goals\"].transform(lambda x: x.shift().expanding().mean()).round(2)\n",
    "\n",
    "#Splitting dataframes to join again\n",
    "goals_h = goals.loc[goals[\"Host\"]==1,[\"xG (rolling)\",\"Conceded xG (rolling)\",\"Goals (rolling)\",\"Conceded Goals (rolling)\"]]\n",
    "goals_a = goals.loc[goals[\"Host\"]==0,[\"xG (rolling)\",\"Conceded xG (rolling)\",\"Goals (rolling)\",\"Conceded Goals (rolling)\"]]\n",
    "\n",
    "\n",
    "goals_h.columns = [\"xG (rolling) Home\",\"Conceded xG (rolling) Home\",\"Goals (rolling) Home\",\"Conceded Goals (rolling) Home\"]\n",
    "goals_a.columns = [\"xG (rolling) Away\",\"Conceded xG (rolling) Away\",\"Goals (rolling) Away\",\"Conceded Goals (rolling) Away\"]\n"
   ]
  },
  {
   "cell_type": "code",
   "execution_count": 4,
   "metadata": {},
   "outputs": [],
   "source": [
    "# Joining average dataframe to match dataframe\n",
    "train_df = train.merge(goals_h,how=\"left\",right_index=True,left_index=True).merge(goals_a,how=\"left\",right_index=True,left_index=True).dropna()\n",
    "\n",
    "train_df[\"y_win\"] =  train_df.apply(lambda x: 0 if x[\"Home_g\"] > x[\"Away_g\"] else (1 if x[\"Away_g\"]>x[\"Home_g\"] else 2),axis=1)\n",
    "train_df[\"y_bts\"] = ((train_df[\"Home_g\"].astype(int)>0)&(train_df[\"Away_g\"].astype(int)>0)).astype(int)"
   ]
  },
  {
   "attachments": {},
   "cell_type": "markdown",
   "metadata": {},
   "source": [
    "## XGBoostClassifier"
   ]
  },
  {
   "cell_type": "code",
   "execution_count": 10,
   "metadata": {},
   "outputs": [],
   "source": [
    "#((train_df[\"Home_g\"].astype(int)>0)&(train_df[\"Away_g\"].astype(int)>0)).astype(int)\n",
    "df_xgb = train_df[[\"Season\",\"Home\",\"Away\",\"xG (rolling) Home\",\"Conceded xG (rolling) Home\",\"Goals (rolling) Home\",\"Conceded Goals (rolling) Home\",\"xG (rolling) Away\",\"Conceded xG (rolling) Away\",\"Goals (rolling) Away\",\"Conceded Goals (rolling) Away\",\"y_win\"]]\n",
    "\n",
    "df_xgb = pd.get_dummies(df_xgb,columns=[\"Home\",\"Away\"])\n",
    "\n",
    "X_train = df_xgb.loc[df_xgb.Season.isin([\"2020-2021\",\"2021-2022\"])].drop(columns=[\"Season\",\"y_win\"])\n",
    "X_test = df_xgb.loc[~df_xgb.Season.isin([\"2020-2021\",\"2021-2022\"])].drop(columns=[\"Season\",\"y_win\"])\n",
    "y_train = df_xgb.loc[df_xgb.Season.isin([\"2020-2021\",\"2021-2022\"]),\"y_win\"]\n",
    "y_test = df_xgb.loc[~df_xgb.Season.isin([\"2020-2021\",\"2021-2022\"]),\"y_win\"]"
   ]
  },
  {
   "cell_type": "code",
   "execution_count": 11,
   "metadata": {},
   "outputs": [
    {
     "name": "stdout",
     "output_type": "stream",
     "text": [
      "{'subsample': 0.7, 'reg_lambda': 0, 'reg_alpha': 0, 'n_estimators': 100, 'min_child_weight': 1, 'max_depth': 3, 'learning_rate': 0.01, 'gamma': 0, 'colsample_bytree': 1.0}\n"
     ]
    }
   ],
   "source": [
    "# Set up the XGBoost classifier\n",
    "xgb_model = XGBClassifier(objective='multi:softmax')\n",
    "\n",
    "# Set up the parameter grid to search\n",
    "param_grid = {\n",
    "    'n_estimators': [100, 500, 1000],\n",
    "    'max_depth': [3, 5, 7],\n",
    "    'learning_rate': [0.01, 0.1, 0.5],\n",
    "    'subsample': [0.5, 0.7, 1.0],\n",
    "    'colsample_bytree': [0.5, 0.7, 1.0],\n",
    "    'gamma': [0, 0.1, 0.5],\n",
    "    'reg_alpha': [0, 0.1, 0.5],\n",
    "    'reg_lambda': [0, 0.1, 0.5],\n",
    "    'min_child_weight': [1, 3, 5]\n",
    "}\n",
    "\n",
    "# Set up the randomized grid search\n",
    "random_search = RandomizedSearchCV(estimator=xgb_model, param_distributions=param_grid, n_iter=50, cv=5, n_jobs=-1)\n",
    "\n",
    "# Fit the randomized grid search to the data\n",
    "random_search.fit(X_train, y_train)\n",
    "\n",
    "# Print the best hyperparameters found\n",
    "print(random_search.best_params_)"
   ]
  },
  {
   "cell_type": "code",
   "execution_count": 12,
   "metadata": {},
   "outputs": [
    {
     "data": {
      "text/html": [
       "<style>#sk-container-id-2 {color: black;background-color: white;}#sk-container-id-2 pre{padding: 0;}#sk-container-id-2 div.sk-toggleable {background-color: white;}#sk-container-id-2 label.sk-toggleable__label {cursor: pointer;display: block;width: 100%;margin-bottom: 0;padding: 0.3em;box-sizing: border-box;text-align: center;}#sk-container-id-2 label.sk-toggleable__label-arrow:before {content: \"▸\";float: left;margin-right: 0.25em;color: #696969;}#sk-container-id-2 label.sk-toggleable__label-arrow:hover:before {color: black;}#sk-container-id-2 div.sk-estimator:hover label.sk-toggleable__label-arrow:before {color: black;}#sk-container-id-2 div.sk-toggleable__content {max-height: 0;max-width: 0;overflow: hidden;text-align: left;background-color: #f0f8ff;}#sk-container-id-2 div.sk-toggleable__content pre {margin: 0.2em;color: black;border-radius: 0.25em;background-color: #f0f8ff;}#sk-container-id-2 input.sk-toggleable__control:checked~div.sk-toggleable__content {max-height: 200px;max-width: 100%;overflow: auto;}#sk-container-id-2 input.sk-toggleable__control:checked~label.sk-toggleable__label-arrow:before {content: \"▾\";}#sk-container-id-2 div.sk-estimator input.sk-toggleable__control:checked~label.sk-toggleable__label {background-color: #d4ebff;}#sk-container-id-2 div.sk-label input.sk-toggleable__control:checked~label.sk-toggleable__label {background-color: #d4ebff;}#sk-container-id-2 input.sk-hidden--visually {border: 0;clip: rect(1px 1px 1px 1px);clip: rect(1px, 1px, 1px, 1px);height: 1px;margin: -1px;overflow: hidden;padding: 0;position: absolute;width: 1px;}#sk-container-id-2 div.sk-estimator {font-family: monospace;background-color: #f0f8ff;border: 1px dotted black;border-radius: 0.25em;box-sizing: border-box;margin-bottom: 0.5em;}#sk-container-id-2 div.sk-estimator:hover {background-color: #d4ebff;}#sk-container-id-2 div.sk-parallel-item::after {content: \"\";width: 100%;border-bottom: 1px solid gray;flex-grow: 1;}#sk-container-id-2 div.sk-label:hover label.sk-toggleable__label {background-color: #d4ebff;}#sk-container-id-2 div.sk-serial::before {content: \"\";position: absolute;border-left: 1px solid gray;box-sizing: border-box;top: 0;bottom: 0;left: 50%;z-index: 0;}#sk-container-id-2 div.sk-serial {display: flex;flex-direction: column;align-items: center;background-color: white;padding-right: 0.2em;padding-left: 0.2em;position: relative;}#sk-container-id-2 div.sk-item {position: relative;z-index: 1;}#sk-container-id-2 div.sk-parallel {display: flex;align-items: stretch;justify-content: center;background-color: white;position: relative;}#sk-container-id-2 div.sk-item::before, #sk-container-id-2 div.sk-parallel-item::before {content: \"\";position: absolute;border-left: 1px solid gray;box-sizing: border-box;top: 0;bottom: 0;left: 50%;z-index: -1;}#sk-container-id-2 div.sk-parallel-item {display: flex;flex-direction: column;z-index: 1;position: relative;background-color: white;}#sk-container-id-2 div.sk-parallel-item:first-child::after {align-self: flex-end;width: 50%;}#sk-container-id-2 div.sk-parallel-item:last-child::after {align-self: flex-start;width: 50%;}#sk-container-id-2 div.sk-parallel-item:only-child::after {width: 0;}#sk-container-id-2 div.sk-dashed-wrapped {border: 1px dashed gray;margin: 0 0.4em 0.5em 0.4em;box-sizing: border-box;padding-bottom: 0.4em;background-color: white;}#sk-container-id-2 div.sk-label label {font-family: monospace;font-weight: bold;display: inline-block;line-height: 1.2em;}#sk-container-id-2 div.sk-label-container {text-align: center;}#sk-container-id-2 div.sk-container {/* jupyter's `normalize.less` sets `[hidden] { display: none; }` but bootstrap.min.css set `[hidden] { display: none !important; }` so we also need the `!important` here to be able to override the default hidden behavior on the sphinx rendered scikit-learn.org. See: https://github.com/scikit-learn/scikit-learn/issues/21755 */display: inline-block !important;position: relative;}#sk-container-id-2 div.sk-text-repr-fallback {display: none;}</style><div id=\"sk-container-id-2\" class=\"sk-top-container\"><div class=\"sk-text-repr-fallback\"><pre>XGBClassifier(base_score=0.5, booster=&#x27;gbtree&#x27;, callbacks=None,\n",
       "              colsample_bylevel=1, colsample_bynode=1, colsample_bytree=1.0,\n",
       "              early_stopping_rounds=None, enable_categorical=False,\n",
       "              eval_metric=None, gamma=0, gpu_id=-1, grow_policy=&#x27;depthwise&#x27;,\n",
       "              importance_type=None, interaction_constraints=&#x27;&#x27;,\n",
       "              learning_rate=0.01, max_bin=256, max_cat_to_onehot=4,\n",
       "              max_delta_step=0, max_depth=3, max_leaves=0, min_child_weight=1,\n",
       "              missing=nan, monotone_constraints=&#x27;()&#x27;, n_estimators=100,\n",
       "              n_jobs=0, num_parallel_tree=1, objective=&#x27;multi:softmax&#x27;,\n",
       "              predictor=&#x27;auto&#x27;, random_state=0, reg_alpha=0, ...)</pre><b>In a Jupyter environment, please rerun this cell to show the HTML representation or trust the notebook. <br />On GitHub, the HTML representation is unable to render, please try loading this page with nbviewer.org.</b></div><div class=\"sk-container\" hidden><div class=\"sk-item\"><div class=\"sk-estimator sk-toggleable\"><input class=\"sk-toggleable__control sk-hidden--visually\" id=\"sk-estimator-id-4\" type=\"checkbox\" checked><label for=\"sk-estimator-id-4\" class=\"sk-toggleable__label sk-toggleable__label-arrow\">XGBClassifier</label><div class=\"sk-toggleable__content\"><pre>XGBClassifier(base_score=0.5, booster=&#x27;gbtree&#x27;, callbacks=None,\n",
       "              colsample_bylevel=1, colsample_bynode=1, colsample_bytree=1.0,\n",
       "              early_stopping_rounds=None, enable_categorical=False,\n",
       "              eval_metric=None, gamma=0, gpu_id=-1, grow_policy=&#x27;depthwise&#x27;,\n",
       "              importance_type=None, interaction_constraints=&#x27;&#x27;,\n",
       "              learning_rate=0.01, max_bin=256, max_cat_to_onehot=4,\n",
       "              max_delta_step=0, max_depth=3, max_leaves=0, min_child_weight=1,\n",
       "              missing=nan, monotone_constraints=&#x27;()&#x27;, n_estimators=100,\n",
       "              n_jobs=0, num_parallel_tree=1, objective=&#x27;multi:softmax&#x27;,\n",
       "              predictor=&#x27;auto&#x27;, random_state=0, reg_alpha=0, ...)</pre></div></div></div></div></div>"
      ],
      "text/plain": [
       "XGBClassifier(base_score=0.5, booster='gbtree', callbacks=None,\n",
       "              colsample_bylevel=1, colsample_bynode=1, colsample_bytree=1.0,\n",
       "              early_stopping_rounds=None, enable_categorical=False,\n",
       "              eval_metric=None, gamma=0, gpu_id=-1, grow_policy='depthwise',\n",
       "              importance_type=None, interaction_constraints='',\n",
       "              learning_rate=0.01, max_bin=256, max_cat_to_onehot=4,\n",
       "              max_delta_step=0, max_depth=3, max_leaves=0, min_child_weight=1,\n",
       "              missing=nan, monotone_constraints='()', n_estimators=100,\n",
       "              n_jobs=0, num_parallel_tree=1, objective='multi:softmax',\n",
       "              predictor='auto', random_state=0, reg_alpha=0, ...)"
      ]
     },
     "execution_count": 12,
     "metadata": {},
     "output_type": "execute_result"
    }
   ],
   "source": [
    "best_params = random_search.best_params_\n",
    "\n",
    "# Create an XGBClassifier object with the best hyperparameters\n",
    "xgb_model = XGBClassifier(objective='multi:softmax', \n",
    "                              n_estimators=best_params['n_estimators'], \n",
    "                              max_depth=best_params['max_depth'], \n",
    "                              learning_rate=best_params['learning_rate'],\n",
    "                              subsample=best_params['subsample'], \n",
    "                              colsample_bytree=best_params['colsample_bytree'], \n",
    "                              gamma=best_params['gamma'], \n",
    "                              reg_alpha=best_params['reg_alpha'], \n",
    "                              reg_lambda=best_params['reg_lambda'],\n",
    "                              min_child_weight=best_params['min_child_weight'])\n",
    "\n",
    "# Fit the XGBClassifier to the training data\n",
    "xgb_model.fit(X_train, y_train)"
   ]
  },
  {
   "cell_type": "code",
   "execution_count": 13,
   "metadata": {},
   "outputs": [
    {
     "name": "stdout",
     "output_type": "stream",
     "text": [
      "              precision    recall  f1-score   support\n",
      "\n",
      "        Home       0.59      0.72      0.65       180\n",
      "        Away       0.41      0.55      0.47       105\n",
      "        Draw       0.50      0.06      0.11        85\n",
      "\n",
      "    accuracy                           0.52       370\n",
      "   macro avg       0.50      0.44      0.41       370\n",
      "weighted avg       0.52      0.52      0.47       370\n",
      "\n"
     ]
    }
   ],
   "source": [
    "from sklearn.metrics import classification_report\n",
    "\n",
    "target_names = ['Home', 'Away', 'Draw']\n",
    "print(classification_report(y_test, xgb_model.predict(X_test), target_names=target_names))"
   ]
  },
  {
   "cell_type": "code",
   "execution_count": 20,
   "metadata": {},
   "outputs": [
    {
     "name": "stdout",
     "output_type": "stream",
     "text": [
      "Accuracy 0.52\n"
     ]
    }
   ],
   "source": [
    "print(f\"Accuracy {accuracy_score(y_test, xgb_model.predict(X_test)):.2f}\")"
   ]
  },
  {
   "cell_type": "code",
   "execution_count": 21,
   "metadata": {},
   "outputs": [],
   "source": [
    "xgb_accuracy = accuracy_score(y_test, xgb_model.predict(X_test))"
   ]
  },
  {
   "attachments": {},
   "cell_type": "markdown",
   "metadata": {},
   "source": [
    "## Poisson Model"
   ]
  },
  {
   "cell_type": "code",
   "execution_count": 15,
   "metadata": {},
   "outputs": [
    {
     "data": {
      "text/html": [
       "<div>\n",
       "<style scoped>\n",
       "    .dataframe tbody tr th:only-of-type {\n",
       "        vertical-align: middle;\n",
       "    }\n",
       "\n",
       "    .dataframe tbody tr th {\n",
       "        vertical-align: top;\n",
       "    }\n",
       "\n",
       "    .dataframe thead th {\n",
       "        text-align: right;\n",
       "    }\n",
       "</style>\n",
       "<table border=\"1\" class=\"dataframe\">\n",
       "  <thead>\n",
       "    <tr style=\"text-align: right;\">\n",
       "      <th></th>\n",
       "      <th>Season</th>\n",
       "      <th>Team</th>\n",
       "      <th>Goals</th>\n",
       "      <th>xG_for_T</th>\n",
       "      <th>xG_against_T</th>\n",
       "      <th>G_for_T</th>\n",
       "      <th>G_against_T</th>\n",
       "      <th>xG_for_O</th>\n",
       "      <th>xG_against_O</th>\n",
       "      <th>G_for_O</th>\n",
       "      <th>G_against_O</th>\n",
       "      <th>Home</th>\n",
       "    </tr>\n",
       "  </thead>\n",
       "  <tbody>\n",
       "    <tr>\n",
       "      <th>0</th>\n",
       "      <td>2020-2021</td>\n",
       "      <td>Everton</td>\n",
       "      <td>5</td>\n",
       "      <td>1.2</td>\n",
       "      <td>1.1</td>\n",
       "      <td>1.0</td>\n",
       "      <td>0.0</td>\n",
       "      <td>0.4</td>\n",
       "      <td>2.8</td>\n",
       "      <td>0.0</td>\n",
       "      <td>3.0</td>\n",
       "      <td>1</td>\n",
       "    </tr>\n",
       "    <tr>\n",
       "      <th>1</th>\n",
       "      <td>2020-2021</td>\n",
       "      <td>Leeds United</td>\n",
       "      <td>4</td>\n",
       "      <td>0.3</td>\n",
       "      <td>2.7</td>\n",
       "      <td>3.0</td>\n",
       "      <td>4.0</td>\n",
       "      <td>0.1</td>\n",
       "      <td>1.9</td>\n",
       "      <td>0.0</td>\n",
       "      <td>3.0</td>\n",
       "      <td>1</td>\n",
       "    </tr>\n",
       "    <tr>\n",
       "      <th>2</th>\n",
       "      <td>2020-2021</td>\n",
       "      <td>Arsenal</td>\n",
       "      <td>2</td>\n",
       "      <td>1.9</td>\n",
       "      <td>0.1</td>\n",
       "      <td>3.0</td>\n",
       "      <td>0.0</td>\n",
       "      <td>1.0</td>\n",
       "      <td>1.6</td>\n",
       "      <td>0.0</td>\n",
       "      <td>2.0</td>\n",
       "      <td>1</td>\n",
       "    </tr>\n",
       "    <tr>\n",
       "      <th>3</th>\n",
       "      <td>2020-2021</td>\n",
       "      <td>Southampton</td>\n",
       "      <td>2</td>\n",
       "      <td>0.9</td>\n",
       "      <td>1.1</td>\n",
       "      <td>0.0</td>\n",
       "      <td>1.0</td>\n",
       "      <td>1.1</td>\n",
       "      <td>1.2</td>\n",
       "      <td>0.0</td>\n",
       "      <td>1.0</td>\n",
       "      <td>1</td>\n",
       "    </tr>\n",
       "    <tr>\n",
       "      <th>4</th>\n",
       "      <td>2020-2021</td>\n",
       "      <td>Newcastle Utd</td>\n",
       "      <td>0</td>\n",
       "      <td>1.6</td>\n",
       "      <td>1.0</td>\n",
       "      <td>2.0</td>\n",
       "      <td>0.0</td>\n",
       "      <td>1.1</td>\n",
       "      <td>1.2</td>\n",
       "      <td>1.0</td>\n",
       "      <td>3.0</td>\n",
       "      <td>1</td>\n",
       "    </tr>\n",
       "  </tbody>\n",
       "</table>\n",
       "</div>"
      ],
      "text/plain": [
       "      Season           Team  Goals  xG_for_T  xG_against_T  G_for_T  \\\n",
       "0  2020-2021        Everton      5       1.2           1.1      1.0   \n",
       "1  2020-2021   Leeds United      4       0.3           2.7      3.0   \n",
       "2  2020-2021        Arsenal      2       1.9           0.1      3.0   \n",
       "3  2020-2021    Southampton      2       0.9           1.1      0.0   \n",
       "4  2020-2021  Newcastle Utd      0       1.6           1.0      2.0   \n",
       "\n",
       "   G_against_T  xG_for_O  xG_against_O  G_for_O  G_against_O  Home  \n",
       "0          0.0       0.4           2.8      0.0          3.0     1  \n",
       "1          4.0       0.1           1.9      0.0          3.0     1  \n",
       "2          0.0       1.0           1.6      0.0          2.0     1  \n",
       "3          1.0       1.1           1.2      0.0          1.0     1  \n",
       "4          0.0       1.1           1.2      1.0          3.0     1  "
      ]
     },
     "execution_count": 15,
     "metadata": {},
     "output_type": "execute_result"
    }
   ],
   "source": [
    "home_poisson=train_df[[\"Season\",\"Home\",\"Home_g\",\"xG (rolling) Home\",\"Conceded xG (rolling) Home\",\"Goals (rolling) Home\",\"Conceded Goals (rolling) Home\",\"xG (rolling) Away\",\"Conceded xG (rolling) Away\",\"Goals (rolling) Away\",\"Conceded Goals (rolling) Away\"]]\n",
    "away_poisson=train_df[[\"Season\",\"Away\",\"Away_g\",\"xG (rolling) Home\",\"Conceded xG (rolling) Home\",\"Goals (rolling) Home\",\"Conceded Goals (rolling) Home\",\"xG (rolling) Away\",\"Conceded xG (rolling) Away\",\"Goals (rolling) Away\",\"Conceded Goals (rolling) Away\"]]\n",
    "\n",
    "home_poisson.columns = [\"Season\",\"Team\",\"Goals\",\"xG_for_T\",\"xG_against_T\",\"G_for_T\",\"G_against_T\",\"xG_for_O\",\"xG_against_O\",\"G_for_O\",\"G_against_O\"]\n",
    "away_poisson.columns = [\"Season\",\"Team\",\"Goals\",\"xG_for_O\",\"xG_against_O\",\"G_for_O\",\"G_against_O\",\"xG_for_T\",\"xG_against_T\",\"G_for_T\",\"G_against_T\"]\n",
    "\n",
    "home_poisson[\"Home\"] = 1\n",
    "away_poisson[\"Home\"] = 0\n",
    "\n",
    "df_poisson = home_poisson.append(away_poisson,ignore_index=True)\n",
    "df_poisson[\"Goals\"] = df_poisson[\"Goals\"].astype(int)\n",
    "df_poisson.head()"
   ]
  },
  {
   "cell_type": "code",
   "execution_count": 16,
   "metadata": {},
   "outputs": [
    {
     "data": {
      "text/html": [
       "<table class=\"simpletable\">\n",
       "<caption>Generalized Linear Model Regression Results</caption>\n",
       "<tr>\n",
       "  <th>Dep. Variable:</th>         <td>Goals</td>      <th>  No. Observations:  </th>  <td>  1476</td> \n",
       "</tr>\n",
       "<tr>\n",
       "  <th>Model:</th>                  <td>GLM</td>       <th>  Df Residuals:      </th>  <td>  1470</td> \n",
       "</tr>\n",
       "<tr>\n",
       "  <th>Model Family:</th>         <td>Poisson</td>     <th>  Df Model:          </th>  <td>     5</td> \n",
       "</tr>\n",
       "<tr>\n",
       "  <th>Link Function:</th>          <td>Log</td>       <th>  Scale:             </th> <td>  1.0000</td>\n",
       "</tr>\n",
       "<tr>\n",
       "  <th>Method:</th>                <td>IRLS</td>       <th>  Log-Likelihood:    </th> <td> -2175.4</td>\n",
       "</tr>\n",
       "<tr>\n",
       "  <th>Date:</th>            <td>Sat, 12 Aug 2023</td> <th>  Deviance:          </th> <td>  1765.3</td>\n",
       "</tr>\n",
       "<tr>\n",
       "  <th>Time:</th>                <td>21:08:53</td>     <th>  Pearson chi2:      </th> <td>1.60e+03</td>\n",
       "</tr>\n",
       "<tr>\n",
       "  <th>No. Iterations:</th>          <td>5</td>        <th>  Pseudo R-squ. (CS):</th>  <td>0.1323</td> \n",
       "</tr>\n",
       "<tr>\n",
       "  <th>Covariance Type:</th>     <td>nonrobust</td>    <th>                     </th>     <td> </td>   \n",
       "</tr>\n",
       "</table>\n",
       "<table class=\"simpletable\">\n",
       "<tr>\n",
       "        <td></td>          <th>coef</th>     <th>std err</th>      <th>z</th>      <th>P>|z|</th>  <th>[0.025</th>    <th>0.975]</th>  \n",
       "</tr>\n",
       "<tr>\n",
       "  <th>Intercept</th>    <td>   -0.3427</td> <td>    0.228</td> <td>   -1.502</td> <td> 0.133</td> <td>   -0.790</td> <td>    0.104</td>\n",
       "</tr>\n",
       "<tr>\n",
       "  <th>xG_for_T</th>     <td>    0.4828</td> <td>    0.058</td> <td>    8.378</td> <td> 0.000</td> <td>    0.370</td> <td>    0.596</td>\n",
       "</tr>\n",
       "<tr>\n",
       "  <th>G_against_T</th>  <td>   -0.1557</td> <td>    0.050</td> <td>   -3.118</td> <td> 0.002</td> <td>   -0.254</td> <td>   -0.058</td>\n",
       "</tr>\n",
       "<tr>\n",
       "  <th>xG_for_O</th>     <td>   -0.2566</td> <td>    0.072</td> <td>   -3.543</td> <td> 0.000</td> <td>   -0.398</td> <td>   -0.115</td>\n",
       "</tr>\n",
       "<tr>\n",
       "  <th>xG_against_O</th> <td>    0.3690</td> <td>    0.080</td> <td>    4.618</td> <td> 0.000</td> <td>    0.212</td> <td>    0.526</td>\n",
       "</tr>\n",
       "<tr>\n",
       "  <th>Home</th>         <td>    0.0927</td> <td>    0.045</td> <td>    2.083</td> <td> 0.037</td> <td>    0.005</td> <td>    0.180</td>\n",
       "</tr>\n",
       "</table>"
      ],
      "text/plain": [
       "<class 'statsmodels.iolib.summary.Summary'>\n",
       "\"\"\"\n",
       "                 Generalized Linear Model Regression Results                  \n",
       "==============================================================================\n",
       "Dep. Variable:                  Goals   No. Observations:                 1476\n",
       "Model:                            GLM   Df Residuals:                     1470\n",
       "Model Family:                 Poisson   Df Model:                            5\n",
       "Link Function:                    Log   Scale:                          1.0000\n",
       "Method:                          IRLS   Log-Likelihood:                -2175.4\n",
       "Date:                Sat, 12 Aug 2023   Deviance:                       1765.3\n",
       "Time:                        21:08:53   Pearson chi2:                 1.60e+03\n",
       "No. Iterations:                     5   Pseudo R-squ. (CS):             0.1323\n",
       "Covariance Type:            nonrobust                                         \n",
       "================================================================================\n",
       "                   coef    std err          z      P>|z|      [0.025      0.975]\n",
       "--------------------------------------------------------------------------------\n",
       "Intercept       -0.3427      0.228     -1.502      0.133      -0.790       0.104\n",
       "xG_for_T         0.4828      0.058      8.378      0.000       0.370       0.596\n",
       "G_against_T     -0.1557      0.050     -3.118      0.002      -0.254      -0.058\n",
       "xG_for_O        -0.2566      0.072     -3.543      0.000      -0.398      -0.115\n",
       "xG_against_O     0.3690      0.080      4.618      0.000       0.212       0.526\n",
       "Home             0.0927      0.045      2.083      0.037       0.005       0.180\n",
       "================================================================================\n",
       "\"\"\""
      ]
     },
     "execution_count": 16,
     "metadata": {},
     "output_type": "execute_result"
    }
   ],
   "source": [
    "#fit the model\n",
    "poisson_model = smf.glm(formula=\"Goals ~ xG_for_T  + G_against_T + xG_for_O + xG_against_O + Home\", data=df_poisson[df_poisson.Season!='2022-2023'].drop(columns=\"Season\"),\n",
    "                    family=sm.families.Poisson()).fit()\n",
    "#print summary\n",
    "poisson_model.summary()"
   ]
  },
  {
   "cell_type": "code",
   "execution_count": 17,
   "metadata": {},
   "outputs": [],
   "source": [
    "def get_probabilities(xG_home, xG_conceded_home,Goals_home, conceded_Goals_home,xG_away,xG_conceded_away, Goals_away,conceded_Goals_away,model = poisson_model):\n",
    "\n",
    "    home_data = pd.DataFrame(data={'xG_for_T':xG_home,'xG_against_T':xG_conceded_home,'G_for_T':Goals_home,'G_against_T':conceded_Goals_home,\n",
    "                                   'xG_for_O':xG_away,'xG_against_O':xG_conceded_away,'G_for_O':Goals_away,'G_against_O':conceded_Goals_away,'Home':1},index=[1])\n",
    "    away_data = pd.DataFrame(data={'xG_for_T':xG_away,'xG_against_T':xG_conceded_away,'G_for_T':Goals_away,'G_against_T':conceded_Goals_away,\n",
    "                                   'xG_for_O':xG_home,'xG_against_O':xG_conceded_home,'G_for_O':Goals_home,'G_against_O':conceded_Goals_home,'Home':0},index=[1])\n",
    "    \n",
    "    # Get avg goals predicted by model\n",
    "    home_avg_goals = model.predict(home_data).values[0]\n",
    "    away_avg_goals = model.predict(away_data).values[0]\n",
    "\n",
    "    # Get probability of score 1 to 5 goals for each team\n",
    "    team_pred = [[poisson.pmf(i, team_avg) for i in range(0, 5)] for team_avg in [home_avg_goals, away_avg_goals]]\n",
    "\n",
    "    #Calculate joint probability\n",
    "    joint_proba=np.outer(np.array(team_pred[0]), np.array(team_pred[1]))\n",
    "\n",
    "    #Calculate probability for Home, Draw and Away\n",
    "    probability = pd.Series([1-np.sum(np.triu(joint_proba, 1))-np.sum(np.diag(joint_proba)),np.sum(np.diag(joint_proba)),np.sum(np.triu(joint_proba, 1))],index=['Home','Draw','Away'])\n",
    "\n",
    "    return probability\n",
    "\n",
    "def get_probabilities_btts(xG_home, xG_conceded_home,Goals_home, conceded_Goals_home,xG_away,xG_conceded_away, Goals_away,conceded_Goals_away,model = poisson_model):\n",
    "\n",
    "    home_data = pd.DataFrame(data={'xG_for_T':xG_home,'xG_against_T':xG_conceded_home,'G_for_T':Goals_home,'G_against_T':conceded_Goals_home,\n",
    "                                   'xG_for_O':xG_away,'xG_against_O':xG_conceded_away,'G_for_O':Goals_away,'G_against_O':conceded_Goals_away,'Home':1},index=[1])\n",
    "    away_data = pd.DataFrame(data={'xG_for_T':xG_away,'xG_against_T':xG_conceded_away,'G_for_T':Goals_away,'G_against_T':conceded_Goals_away,\n",
    "                                   'xG_for_O':xG_home,'xG_against_O':xG_conceded_home,'G_for_O':Goals_home,'G_against_O':conceded_Goals_home,'Home':0},index=[1])\n",
    "    \n",
    "    # Get avg goals predicted by model\n",
    "    home_avg_goals = model.predict(home_data).values[0]\n",
    "    away_avg_goals = model.predict(away_data).values[0]\n",
    "\n",
    "    # Get probability of score 1 to 5 goals for each team\n",
    "    team_pred = [[poisson.pmf(i, team_avg) for i in range(0, 5)] for team_avg in [home_avg_goals, away_avg_goals]]\n",
    "\n",
    "    #Calculate joint probability\n",
    "    joint_proba=np.outer(np.array(team_pred[0]), np.array(team_pred[1]))\n",
    "\n",
    "    #Calculate probability for Both teams score\n",
    "    probability = joint_proba[1:,1:].sum()\n",
    "\n",
    "\n",
    "    return probability\n"
   ]
  },
  {
   "cell_type": "code",
   "execution_count": 18,
   "metadata": {},
   "outputs": [],
   "source": [
    "train_columns = ['xG (rolling) Home', 'Conceded xG (rolling) Home',\n",
    "       'Goals (rolling) Home', 'Conceded Goals (rolling) Home',\n",
    "       'xG (rolling) Away', 'Conceded xG (rolling) Away',\n",
    "       'Goals (rolling) Away', 'Conceded Goals (rolling) Away',\"Home\",\"Away\"]"
   ]
  },
  {
   "cell_type": "code",
   "execution_count": 19,
   "metadata": {},
   "outputs": [
    {
     "name": "stdout",
     "output_type": "stream",
     "text": [
      "Poisson accuracy: 0.54\n"
     ]
    }
   ],
   "source": [
    "train_df[[\"0\",\"2\",\"1\"]] = train_df[train_columns].apply(lambda x: get_probabilities(x[0],x[1],x[2],x[3],x[4],x[5],x[6],x[7]),axis=1)\n",
    "train_df[\"Predicted_poisson\"]=train_df[[\"0\",\"2\",\"1\"]].idxmax(axis=1).astype(int)\n",
    "acc_poisson = (train_df.loc[train_df.Season==\"2022-2023\",\"Predicted_poisson\"]==train_df.loc[train_df.Season==\"2022-2023\",\"y_win\"]).mean().round(2)\n",
    "print(f\"Poisson accuracy: {acc_poisson:.2f}\")"
   ]
  },
  {
   "cell_type": "code",
   "execution_count": 42,
   "metadata": {},
   "outputs": [],
   "source": [
    "plt.style.use('fivethirtyeight')"
   ]
  },
  {
   "cell_type": "code",
   "execution_count": 44,
   "metadata": {},
   "outputs": [
    {
     "data": {
      "image/png": "[encoded data removed]",
      "text/plain": [
       "<Figure size 432x288 with 1 Axes>"
      ]
     },
     "metadata": {},
     "output_type": "display_data"
    }
   ],
   "source": [
    "fig, ax = plt.subplots()\n",
    "ax.bar([\"Poisson Model\",\"XGBoost\"],[acc_poisson,xgb_accuracy])\n",
    "ax.yaxis.set_major_formatter(mtick.PercentFormatter(1.0))\n",
    "ax.set_title(\"Accuracy of Models in EPL\")\n",
    "ax.set_ylabel(\"Accuracy\")\n",
    "ax.set_xlabel(\"Models\")\n",
    "plt.savefig('Comparison.png', dpi=300)"
   ]
  }
 ],
 "metadata": {
  "kernelspec": {
   "display_name": "base",
   "language": "python",
   "name": "python3"
  },
  "language_info": {
   "codemirror_mode": {
    "name": "ipython",
    "version": 3
   },
   "file_extension": ".py",
   "mimetype": "text/x-python",
   "name": "python",
   "nbconvert_exporter": "python",
   "pygments_lexer": "ipython3",
   "version": "3.9.12"
  },
  "orig_nbformat": 4
 },
 "nbformat": 4,
 "nbformat_minor": 2
}
